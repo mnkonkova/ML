{
 "cells": [
  {
   "cell_type": "markdown",
   "metadata": {},
   "source": [
    "# L2 - Multilayer perceptron\n",
    "\n",
    "### Papers\n",
    "1. [TensorFlow](https://static.googleusercontent.com/media/research.google.com/en//pubs/archive/45166.pdf)\n",
    "\n",
    "### TensorFlow\n",
    "1. [Installing TensorFlow](https://www.tensorflow.org/install/)\n",
    "2. [Basics of TensorFlow](https://www.tensorflow.org/get_started/get_started)\n",
    "3. [Mnist with TensorFlow](https://www.tensorflow.org/get_started/mnist/pros)\n",
    "4. [TensorFlow Mechanics](https://www.tensorflow.org/get_started/mnist/mechanics)\n",
    "5. [Visualization](https://www.tensorflow.org/get_started/graph_viz)\n",
    "\n",
    "\n",
    "### One more thing\n",
    "1. [Jupyter tutorial](https://habrahabr.ru/company/wunderfund/blog/316826/)\n",
    "2. [Plot.ly](https://plot.ly/python/)\n",
    "3. [Widgets](http://jupyter.org/widgets.html)"
   ]
  },
  {
   "cell_type": "markdown",
   "metadata": {},
   "source": [
    "### 1. Linear multi-classification problem\n",
    "\n",
    "We have already learned binary linear classifier\n",
    "$$y = \\text{sign}(w^Tx).$$\n",
    "There are [several approaches](https://en.wikipedia.org/wiki/Multiclass_classification) to solve the problem of multi-class classification. For example [reduction](https://en.wikipedia.org/wiki/Multiclass_classification#Transformation_to_Binary) of problem to binary classifier or [modification](https://en.wikipedia.org/wiki/Support_vector_machine#Multiclass_SVM) of the known model. However we are interested in approaches that is applied in neural networks.\n",
    "\n",
    "For each class $c \\in 1, \\dots, |C|$ we have an individual row $w_i$ of matrix $W$. Then the probability of $x$ belonging to a particular class is equal to\n",
    "$$p_i = \\frac{\\exp(w^T_ix)}{\\sum_j \\exp(w^T_jx)}.$$\n",
    "This is nothing, but [softmax](https://en.wikipedia.org/wiki/Softmax_function) function of $Wx$.\n",
    "$$(p_1, \\dots, p_{|C|}) = \\text{softmax}(Wx).$$\n",
    "\n",
    "If you look closely, $\\text{softmax}$ is a more general variant of sigmoid. To see this, it suffices to consider the case $|C|=2$. As usual the training can be reduced to minimization of the empirical risk, namely, optimization problem\n",
    "$$\\arg\\min_W Q(W) = \\arg\\min_W -\\frac{1}{\\mathcal{l}}\\sum_y\\sum_i [y = i] \\cdot \\ln(p_i(W)).$$\n",
    "Actually, the maximization of the log-likelihood is written above.\n",
    "\n",
    "#### Exercises\n",
    "1. Find $\\frac{dQ}{dW}$ in matrix form (hint: start with $\\frac{dQ}{dw_i}$ for begining).\n",
    "2. Please plot several mnist images (e.g using grid 5x5).\n",
    "3. Train linear multi-label classifier for [mnist](https://www.kaggle.com/c/digit-recognizer) dataset with TensorFlow (possible, [this tutorial](https://www.tensorflow.org/get_started/mnist/pros) can help you).\n",
    "4. Chek accuracy on train and validation sets.\n",
    "5. Use a local [TensorBoard instance](https://www.tensorflow.org/get_started/graph_viz) to visualize resulted graph (no need to include in lab)."
   ]
  },
  {
   "cell_type": "code",
   "execution_count": 4,
   "metadata": {
    "collapsed": true
   },
   "outputs": [],
   "source": [
    "#dQ/dwi= sum([y=i]) * ln(1+exp((-wi+w1+..+wn)Tx))exp((-wi+w1+..+wn)Tx) .T x\n",
    "#-i столбец"
   ]
  },
  {
   "cell_type": "code",
   "execution_count": 2,
   "metadata": {},
   "outputs": [
    {
     "name": "stdout",
     "output_type": "stream",
     "text": [
      "Extracting MNIST_data/train-images-idx3-ubyte.gz\n",
      "Extracting MNIST_data/train-labels-idx1-ubyte.gz\n",
      "Extracting MNIST_data/t10k-images-idx3-ubyte.gz\n",
      "Extracting MNIST_data/t10k-labels-idx1-ubyte.gz\n"
     ]
    }
   ],
   "source": [
    "from tensorflow.examples.tutorials.mnist import input_data\n",
    "mnist = input_data.read_data_sets(\"MNIST_data/\", one_hot=True)\n",
    "import tensorflow as tf"
   ]
  },
  {
   "cell_type": "code",
   "execution_count": 4,
   "metadata": {},
   "outputs": [
    {
     "data": {
      "image/png": "[encoded data removed]",
      "text/plain": [
       "<matplotlib.figure.Figure at 0x12cd5cd68>"
      ]
     },
     "metadata": {},
     "output_type": "display_data"
    },
    {
     "data": {
      "image/png": "[encoded data removed]",
      "text/plain": [
       "<matplotlib.figure.Figure at 0x12cd5ce10>"
      ]
     },
     "metadata": {},
     "output_type": "display_data"
    },
    {
     "data": {
      "image/png": "[encoded data removed]",
      "text/plain": [
       "<matplotlib.figure.Figure at 0x141f710b8>"
      ]
     },
     "metadata": {},
     "output_type": "display_data"
    }
   ],
   "source": [
    "import matplotlib.pyplot as plt\n",
    "def printNum(vector, n=28):\n",
    "    from skimage.filters import threshold_mean\n",
    "    import matplotlib\n",
    "    import numpy as np\n",
    "    import matplotlib.pyplot as plt\n",
    "\n",
    "    image = np.array(vector).reshape(n, n)\n",
    "    plt.imshow(image, cmap=plt.cm.gray)\n",
    "    plt.show()\n",
    "printNum(mnist.train.images[1])\n",
    "printNum(mnist.train.images[43])\n",
    "printNum(mnist.train.images[7])"
   ]
  },
  {
   "cell_type": "code",
   "execution_count": 91,
   "metadata": {},
   "outputs": [
    {
     "name": "stdout",
     "output_type": "stream",
     "text": [
      "10\n"
     ]
    }
   ],
   "source": [
    "print(len(mnist.train.labels[0]))"
   ]
  },
  {
   "cell_type": "code",
   "execution_count": 92,
   "metadata": {},
   "outputs": [
    {
     "name": "stdout",
     "output_type": "stream",
     "text": [
      "0.9155\n"
     ]
    },
    {
     "data": {
      "image/png": "[encoded data removed]",
      "text/plain": [
       "<matplotlib.figure.Figure at 0x129392da0>"
      ]
     },
     "metadata": {},
     "output_type": "display_data"
    },
    {
     "name": "stdout",
     "output_type": "stream",
     "text": [
      "None\n"
     ]
    },
    {
     "data": {
      "image/png": "[encoded data removed]",
      "text/plain": [
       "<matplotlib.figure.Figure at 0x140ca8198>"
      ]
     },
     "metadata": {},
     "output_type": "display_data"
    },
    {
     "name": "stdout",
     "output_type": "stream",
     "text": [
      "None\n"
     ]
    },
    {
     "data": {
      "image/png": "[encoded data removed]",
      "text/plain": [
       "<matplotlib.figure.Figure at 0x14048b780>"
      ]
     },
     "metadata": {},
     "output_type": "display_data"
    },
    {
     "name": "stdout",
     "output_type": "stream",
     "text": [
      "None\n"
     ]
    },
    {
     "data": {
      "image/png": "[encoded data removed]",
      "text/plain": [
       "<matplotlib.figure.Figure at 0x173dea978>"
      ]
     },
     "metadata": {},
     "output_type": "display_data"
    },
    {
     "name": "stdout",
     "output_type": "stream",
     "text": [
      "None\n"
     ]
    },
    {
     "data": {
      "image/png": "[encoded data removed]",
      "text/plain": [
       "<matplotlib.figure.Figure at 0x1293c7080>"
      ]
     },
     "metadata": {},
     "output_type": "display_data"
    },
    {
     "name": "stdout",
     "output_type": "stream",
     "text": [
      "None\n"
     ]
    },
    {
     "data": {
      "image/png": "[encoded data removed]",
      "text/plain": [
       "<matplotlib.figure.Figure at 0x146462dd8>"
      ]
     },
     "metadata": {},
     "output_type": "display_data"
    },
    {
     "name": "stdout",
     "output_type": "stream",
     "text": [
      "None\n"
     ]
    },
    {
     "data": {
      "image/png": "[encoded data removed]",
      "text/plain": [
       "<matplotlib.figure.Figure at 0x1a1b060b8>"
      ]
     },
     "metadata": {},
     "output_type": "display_data"
    },
    {
     "name": "stdout",
     "output_type": "stream",
     "text": [
      "None\n"
     ]
    },
    {
     "data": {
      "image/png": "[encoded data removed]",
      "text/plain": [
       "<matplotlib.figure.Figure at 0x1a1bf5a90>"
      ]
     },
     "metadata": {},
     "output_type": "display_data"
    },
    {
     "name": "stdout",
     "output_type": "stream",
     "text": [
      "None\n"
     ]
    },
    {
     "data": {
      "image/png": "[encoded data removed]",
      "text/plain": [
       "<matplotlib.figure.Figure at 0x1a1cd05f8>"
      ]
     },
     "metadata": {},
     "output_type": "display_data"
    },
    {
     "name": "stdout",
     "output_type": "stream",
     "text": [
      "None\n"
     ]
    },
    {
     "data": {
      "image/png": "[encoded data removed]",
      "text/plain": [
       "<matplotlib.figure.Figure at 0x1a19c4080>"
      ]
     },
     "metadata": {},
     "output_type": "display_data"
    },
    {
     "name": "stdout",
     "output_type": "stream",
     "text": [
      "None\n"
     ]
    }
   ],
   "source": [
    "x = tf.placeholder(tf.float32, shape=[None, 784])\n",
    "y_ = tf.placeholder(tf.int32, shape=[None, 10])\n",
    "\n",
    "W = tf.Variable(tf.truncated_normal([784, 10], stddev=0.1))\n",
    "b = tf.Variable(tf.constant(0.1, shape=[10]))\n",
    "y = tf.matmul(x,W) + b\n",
    "cross_entropy = tf.reduce_mean(\n",
    "    tf.nn.softmax_cross_entropy_with_logits(labels=y_, logits=y))\n",
    "train_step = tf.train.GradientDescentOptimizer(0.5).minimize(cross_entropy)\n",
    "correct_prediction = tf.equal(tf.argmax(y,1), tf.argmax(y_,1))\n",
    "accuracy = tf.reduce_mean(tf.cast(correct_prediction, tf.float32))\n",
    "with tf.Session() as sess:\n",
    "    sess.run(tf.global_variables_initializer())\n",
    "    for i in range(1000):\n",
    "        batch = mnist.train.next_batch(100)\n",
    "        train_step.run(feed_dict={x: batch[0], y_: batch[1]})\n",
    "    print(accuracy.eval(feed_dict={x: mnist.test.images, y_: mnist.test.labels}))\n",
    "    result = sess.run(W)\n",
    "    for i in range(10):\n",
    "        print(printNum(result.T[i]))\n",
    "sess.close()"
   ]
  },
  {
   "cell_type": "markdown",
   "metadata": {},
   "source": [
    "Let's briefly touch on themes of regularization. As was discussed before, there are different approaches. We focus on the modification of loss function.\n",
    "\n",
    "$$\\arg\\min_W -\\frac{1}{\\mathcal{l}}\\sum_y\\sum_i [y = i] \\cdot \\ln(p_i(W)) + \\lambda_1 L_1(W) + \\lambda_2 L_2(W)$$\n",
    "\n",
    "1. $L_1(W) = sum_{i,j} |w_{i,j}|$ - sparsify weights (force to not use uncorrelated features)\n",
    "2. $L_2(W) = sum_{i,j} w_{i,j}^2$ - minimize weights (force to not overfit)\n",
    "\n",
    "#### Exercises\n",
    "1. Train model again using both type of regularization.\n",
    "2. Plot matrix of weights.\n",
    "3. Which pixels have zero weights? What does it mean?\n",
    "Это значит, что на этих местах не должно быть написано для данной цифры\n",
    "4. Have you improved accuracy on validation?"
   ]
  },
  {
   "cell_type": "code",
   "execution_count": 93,
   "metadata": {},
   "outputs": [
    {
     "name": "stdout",
     "output_type": "stream",
     "text": [
      "0.8632\n"
     ]
    },
    {
     "data": {
      "image/png": "[encoded data removed]",
      "text/plain": [
       "<matplotlib.figure.Figure at 0x1a1f286a0>"
      ]
     },
     "metadata": {},
     "output_type": "display_data"
    },
    {
     "name": "stdout",
     "output_type": "stream",
     "text": [
      "None\n"
     ]
    },
    {
     "data": {
      "image/png": "[encoded data removed]",
      "text/plain": [
       "<matplotlib.figure.Figure at 0x1a1e0bc50>"
      ]
     },
     "metadata": {},
     "output_type": "display_data"
    },
    {
     "name": "stdout",
     "output_type": "stream",
     "text": [
      "None\n"
     ]
    },
    {
     "data": {
      "image/png": "[encoded data removed]",
      "text/plain": [
       "<matplotlib.figure.Figure at 0x128433710>"
      ]
     },
     "metadata": {},
     "output_type": "display_data"
    },
    {
     "name": "stdout",
     "output_type": "stream",
     "text": [
      "None\n"
     ]
    },
    {
     "data": {
      "image/png": "[encoded data removed]",
      "text/plain": [
       "<matplotlib.figure.Figure at 0x1a1d7ecc0>"
      ]
     },
     "metadata": {},
     "output_type": "display_data"
    },
    {
     "name": "stdout",
     "output_type": "stream",
     "text": [
      "None\n"
     ]
    },
    {
     "data": {
      "image/png": "[encoded data removed]",
      "text/plain": [
       "<matplotlib.figure.Figure at 0x1a1c98eb8>"
      ]
     },
     "metadata": {},
     "output_type": "display_data"
    },
    {
     "name": "stdout",
     "output_type": "stream",
     "text": [
      "None\n"
     ]
    },
    {
     "data": {
      "image/png": "[encoded data removed]",
      "text/plain": [
       "<matplotlib.figure.Figure at 0x18cd81a58>"
      ]
     },
     "metadata": {},
     "output_type": "display_data"
    },
    {
     "name": "stdout",
     "output_type": "stream",
     "text": [
      "None\n"
     ]
    },
    {
     "data": {
      "image/png": "[encoded data removed]",
      "text/plain": [
       "<matplotlib.figure.Figure at 0x173dfde10>"
      ]
     },
     "metadata": {},
     "output_type": "display_data"
    },
    {
     "name": "stdout",
     "output_type": "stream",
     "text": [
      "None\n"
     ]
    },
    {
     "data": {
      "image/png": "[encoded data removed]",
      "text/plain": [
       "<matplotlib.figure.Figure at 0x1a1bcabe0>"
      ]
     },
     "metadata": {},
     "output_type": "display_data"
    },
    {
     "name": "stdout",
     "output_type": "stream",
     "text": [
      "None\n"
     ]
    },
    {
     "data": {
      "image/png": "[encoded data removed]",
      "text/plain": [
       "<matplotlib.figure.Figure at 0x1a1afde10>"
      ]
     },
     "metadata": {},
     "output_type": "display_data"
    },
    {
     "name": "stdout",
     "output_type": "stream",
     "text": [
      "None\n"
     ]
    },
    {
     "data": {
      "image/png": "[encoded data removed]",
      "text/plain": [
       "<matplotlib.figure.Figure at 0x1a1e25c88>"
      ]
     },
     "metadata": {},
     "output_type": "display_data"
    },
    {
     "name": "stdout",
     "output_type": "stream",
     "text": [
      "None\n"
     ]
    }
   ],
   "source": [
    "x = tf.placeholder(tf.float32, shape=[None, 784])\n",
    "y_ = tf.placeholder(tf.int32, shape=[None, 10])\n",
    "\n",
    "W = tf.Variable(tf.zeros([784,10]))\n",
    "b = tf.Variable(tf.zeros([10]))\n",
    "y = tf.matmul(x,W) + b\n",
    "L1 = tf.reduce_sum(tf.abs(W))\n",
    "L2 = tf.reduce_sum(tf.square(W))\n",
    "cross_entropy = tf.reduce_mean(\n",
    "    tf.nn.softmax_cross_entropy_with_logits(labels=y_, logits=y)) + 0.003 * L1 + 0.001 * L2\n",
    "train_step = tf.train.GradientDescentOptimizer(0.5).minimize(cross_entropy)\n",
    "correct_prediction = tf.equal(tf.argmax(y,1), tf.argmax(y_,1))\n",
    "accuracy = tf.reduce_mean(tf.cast(correct_prediction, tf.float32))\n",
    "with tf.Session() as sess:\n",
    "    sess.run(tf.global_variables_initializer())\n",
    "    for i in range(1000):\n",
    "        batch = mnist.train.next_batch(100)\n",
    "        train_step.run(feed_dict={x: batch[0], y_: batch[1]})\n",
    "    print(accuracy.eval(feed_dict={x: mnist.test.images, y_: mnist.test.labels}))\n",
    "    result = sess.run(W)\n",
    "    for i in range(10):\n",
    "        print(printNum(result.T[i]))\n",
    "sess.close()"
   ]
  },
  {
   "cell_type": "markdown",
   "metadata": {},
   "source": [
    "### 2. Universal approximation theorem\n",
    "\n",
    "What if we add more layers to our model? Namely, we train two matrix $W_2$ and $W_1$\n",
    "$$softmax(W_2\\cdot(W_1x)).$$\n",
    "\n",
    "At first glance adding more parameters helps to increase the generalizing ability of the model. Buy actually we have the same model $softmax(Wx)$, where $W = W_2\\cdot W_1$. But everyting changes with adding ome more layer. Let's add nonlinear function $\\sigma$ between $W_2$ and $W_1$\n",
    "\n",
    "$$softmax(W_2\\cdot \\sigma(W_1x)).$$\n",
    "\n",
    "Kurt Hornik showed in 1991 that it is not the specific choice of the nonlinear function, but rather the multilayer feedforward architecture itself which gives neural networks the potential of being universal approximators. The output units are always assumed to be linear. For notational convenience, only the single output case will be shown. The general case can easily be deduced from the single output case.\n",
    "\n",
    "Let $\\sigma(\\cdot)$ be a nonconstant, bounded, and monotonically-increasing continuous function.\n",
    "Let $\\mathcal{S}_m \\subset \\mathbb{R}^m$ denote any compact set. \n",
    "Then, given any $\\varepsilon > 0$ and any coninuous function $f$ on $\\mathcal{S}_m$, there exist an integer $N$ and real constants $v_i$, $b_i$ amd real vectors $w_i$ that\n",
    "\n",
    "$$\\left| \\sum _{i=1}^{N}v_{i}\\sigma \\left( w_i^{T} x+b_i \\right) - f(x) \\right| < \\varepsilon, ~~~ \\forall x \\in \\mathcal{S}_m.$$\n",
    "\n",
    "The theorem has non-constructive proof, it meams that no estimates for $N$ and no method to find approximation's parameters.\n",
    "\n",
    "#### Exercises\n",
    "1. Let $\\sigma$ – [heaviside step function](https://en.wikipedia.org/wiki/Heaviside_step_function) and $x \\in \\{0, 1\\}^2$. Prove that $y = \\sigma(wx + b)$ can approximate boolean function **OR** (hint: use constructive proof).\n",
    "2. What about **AND** function?\n",
    "3. Is it possible to implement **XOR**? Prove your words.\n",
    "4. Prove that 2-layer network can implement any boolean function.\n",
    "\n",
    "Zochem pisat, esly mu eto delaly na uroke\n",
    "\n",
    "Ny ladna\n",
    "\n",
    "1) $w = (1, 1); b = -1/2$\n",
    "\n",
    "2) $w = (1, 1); b = -3/2$\n",
    "\n",
    "3) Заметим, что **XOR** = 1 при $(1,0);(0,1)$, значит , что никакая прямая не сможет разделить на 0 и 1 данную плоскость.\n",
    "\n",
    "4) Вспомним, что любую булеву функцию монжо представить в виде ДНФ. Значит, первым делом произведем умножение с отрицанием, затем сложение. Сложение делается очевидно, рассмотрим умножение с отрицанием (yf ghbvtht)%\n",
    "\n",
    "$\\bar x_1 x_2 \\bar x_3 x_4 \\bar x_5$\n",
    "\n",
    "$w=(-1,1,-1,1,-1); b=1-2-1/2=-3/2$, где $b$ -  $1 - num_{pol} - 1/2$\n",
    "\n",
    "Так как максимальное значение $wx$ = количесвто положительных в коньюнкте, а любое другое означивание и должно давать 0.\n",
    "\n",
    "#### More useful facts:\n",
    "1. A 2-layer network in in $\\mathbb{R}^n$ allows to define convex polyhedron..\n",
    "2. A 3-layer network in в $\\mathbb{R}^n$ allows to define a not necessarily convex and not even necessarily connected area."
   ]
  },
  {
   "cell_type": "markdown",
   "metadata": {},
   "source": [
    "### 3. Backpropagation\n",
    "Backpropagation is a method used to calculate the error contribution of each layer after a batch of data. It is a special case of an older and more general technique called automatic differentiation. In the context of learning, backpropagation is commonly used by the gradient descent optimization algorithm to adjust the weight of layers by calculating the gradient of the loss function. This technique is also sometimes called backward propagation of errors, because the error is calculated at the output and distributed back through the network layers. The main motivation of method is simplify evaluation of gradient which is complex problem for multilayer nets.\n",
    "\n",
    "We need the following notation. Let $(y^1,\\dots,y^n) = f(x^1,\\dots,x^n)$ is some differentiable function and $\\frac{dy}{dx}$ is matrix\n",
    "$$\\frac{dy}{dx} = \\Big[ J_{ij} = \\frac{\\partial y^i}{\\partial x^j} \\Big]$$\n",
    "\n",
    "Without violating the generality, we can assume that each layer is a function $x_{i} = f(x_{i-1}, w_i)$. As last layer we add loss function, so we can assume our multi-layer net as function $Q(x_0) = Q(f_n(f_{n-1}(\\dots, w_{n-1}), w_n))$.\n",
    "\n",
    "#### Forward step\n",
    "Propagation forward through the network to generate the output values. Calculation of the loss function.\n",
    "\n",
    "#### Backward step\n",
    "Let's look at last layer. We can simply find $\\frac{dQ}{dx_n}$. Now we can evaluate \n",
    "\n",
    "$$\\frac{dQ}{dw_n} = \\frac{dQ}{dx_n}\\frac{dx_n}{dw_n} \\text{ and } \\frac{dQ}{dx_{n-1}} = \\frac{dQ}{dx_n}\\frac{dx_n}{dx_{n-1}}$$\n",
    "\n",
    "Now we need calculate $\\frac{dQ}{dw_{n-2}}$ и $\\frac{dQ}{dx_{n-2}}$. But we have the same situation. We know $\\frac{dQ}{dx_k}$, so can evaluate $\\frac{dQ}{dw_k}$ and $\\frac{dQ}{dx_{k-1}}$. Repeating this operation we find all the gradients. Now it's only remains to make a gradient step to update weights.\n",
    "\n",
    "#### Exercises\n",
    "1. Read more about [vanishing gradient](https://en.wikipedia.org/wiki/Vanishing_gradient_problem).\n",
    "2. Train 2 layer net. Use sigmoid as nonlinearity.\n",
    "3. Check accuracy on validation set.\n",
    "4. Use [ReLu](https://en.wikipedia.org/wiki/Rectifier_(neural_networks) or LeakyReLu as nonlinearity. Compare accuracy and convergence with previous model.\n",
    "5. Play with different architectures (add more layers, regularization and etc).\n",
    "6. Show your best model.\n",
    "7. How does quality change with adding layers. Prove your words, train model for 2, 3, 5, 7 and 10 layers.\n",
    "8. Using backpropagation find optimal  digit 8 for your net.*"
   ]
  },
  {
   "cell_type": "code",
   "execution_count": 94,
   "metadata": {},
   "outputs": [
    {
     "name": "stdout",
     "output_type": "stream",
     "text": [
      "step 0, training accuracy 0.1\n",
      "step 100, training accuracy 0.93\n",
      "step 200, training accuracy 0.89\n",
      "step 300, training accuracy 0.91\n",
      "step 400, training accuracy 0.93\n",
      "step 500, training accuracy 0.9\n",
      "step 600, training accuracy 0.92\n",
      "step 700, training accuracy 0.91\n",
      "step 800, training accuracy 0.89\n",
      "step 900, training accuracy 0.95\n",
      "test accuracy 0.9302\n"
     ]
    }
   ],
   "source": [
    "import tensorflow as tf\n",
    "sess = tf.InteractiveSession()\n",
    "x = tf.placeholder(tf.float32, shape=[None, 784])\n",
    "y_ = tf.placeholder(tf.float32, shape=[None, 10])\n",
    "#1st layer\n",
    "W_1 = tf.Variable(tf.truncated_normal([784,100], stddev=0.1))\n",
    "b_1 = tf.Variable(tf.constant(0.1, shape=[100]))\n",
    "h_1 = tf.nn.sigmoid(tf.matmul(x, W_1) + b_1) \n",
    "#2nd layer\n",
    "W_2 = tf.Variable(tf.truncated_normal([100, 10], stddev=0.1))\n",
    "b_2 = tf.Variable(tf.constant(0.1, shape=[10]))\n",
    "y_res = tf.matmul(h_1, W_2) + b_2\n",
    "\n",
    "cross_entropy = tf.reduce_mean(\n",
    "    tf.nn.softmax_cross_entropy_with_logits(labels=y_, logits=y_res))\n",
    "\n",
    "train_step = tf.train.GradientDescentOptimizer(0.5).minimize(cross_entropy)\n",
    "\n",
    "correct_prediction = tf.equal(tf.argmax(y_res, 1), tf.argmax(y_, 1))\n",
    "accuracy = tf.reduce_mean(tf.cast(correct_prediction, tf.float32))\n",
    "\n",
    "with tf.Session() as sess:\n",
    "    sess.run(tf.global_variables_initializer())\n",
    "    for i in range(1000):\n",
    "        batch = mnist.train.next_batch(100)\n",
    "        if i % 100 == 0:\n",
    "            train_accuracy = accuracy.eval(feed_dict={\n",
    "            x: batch[0], y_: batch[1]})\n",
    "            print('step %d, training accuracy %g' % (i, train_accuracy))\n",
    "        train_step.run(feed_dict={x: batch[0], y_: batch[1]})\n",
    "\n",
    "    print('test accuracy %g' % accuracy.eval(feed_dict={\n",
    "        x: mnist.test.images, y_: mnist.test.labels}))\n",
    "sess.close()"
   ]
  },
  {
   "cell_type": "code",
   "execution_count": 95,
   "metadata": {},
   "outputs": [
    {
     "name": "stdout",
     "output_type": "stream",
     "text": [
      "step 0, training accuracy 0.05\n",
      "step 100, training accuracy 0.88\n",
      "step 200, training accuracy 0.89\n",
      "step 300, training accuracy 0.94\n",
      "step 400, training accuracy 0.92\n",
      "step 500, training accuracy 0.98\n",
      "step 600, training accuracy 0.96\n",
      "step 700, training accuracy 0.96\n",
      "step 800, training accuracy 0.99\n",
      "step 900, training accuracy 0.96\n",
      "test accuracy 0.9624\n"
     ]
    }
   ],
   "source": [
    "import tensorflow as tf\n",
    "sess = tf.InteractiveSession()\n",
    "x = tf.placeholder(tf.float32, shape=[None, 784])\n",
    "y_ = tf.placeholder(tf.int32, shape=[None, 10])\n",
    "#1st layer\n",
    "W_1 = tf.Variable(tf.truncated_normal([784,100], stddev=0.1))\n",
    "b_1 = tf.Variable(tf.constant(0.1, shape=[100]))\n",
    "h_1 = tf.nn.relu(tf.matmul(x, W_1) + b_1) \n",
    "#2nd layer\n",
    "W_2 = tf.Variable(tf.truncated_normal([100, 10], stddev=0.1))\n",
    "b_2 = tf.Variable(tf.constant(0.1, shape=[10]))\n",
    "y_res = tf.matmul(h_1, W_2) + b_2\n",
    "\n",
    "cross_entropy = tf.reduce_mean(\n",
    "    tf.nn.softmax_cross_entropy_with_logits(labels=y_, logits=y_res))\n",
    "\n",
    "train_step = tf.train.GradientDescentOptimizer(0.5).minimize(cross_entropy)\n",
    "\n",
    "correct_prediction = tf.equal(tf.argmax(y_res, 1), tf.argmax(y_, 1))\n",
    "accuracy = tf.reduce_mean(tf.cast(correct_prediction, tf.float32))\n",
    "\n",
    "with tf.Session() as sess:\n",
    "    sess.run(tf.global_variables_initializer())\n",
    "    for i in range(1000):\n",
    "        batch = mnist.train.next_batch(100)\n",
    "        if i % 100 == 0:\n",
    "            train_accuracy = accuracy.eval(feed_dict={\n",
    "            x: batch[0], y_: batch[1]})\n",
    "            print('step %d, training accuracy %g' % (i, train_accuracy))\n",
    "        train_step.run(feed_dict={x: batch[0], y_: batch[1]})\n",
    "\n",
    "    print('test accuracy %g' % accuracy.eval(feed_dict={\n",
    "        x: mnist.test.images, y_: mnist.test.labels}))\n",
    "sess.close()"
   ]
  },
  {
   "cell_type": "code",
   "execution_count": 96,
   "metadata": {
    "collapsed": true
   },
   "outputs": [],
   "source": [
    "def create_your_neyro(sizes, nonlinearity, batch_s = 64, steps = 1000, regularized=False):\n",
    "    #fill variables\n",
    "    lamb1 = 0.00003\n",
    "    lamb2 = 0.0001\n",
    "    \n",
    "    x = tf.placeholder(tf.float32, shape=[None, sizes[0]])\n",
    "    y_ = tf.placeholder(tf.float32, shape=[None, 10])\n",
    "    n = len(sizes) - 1\n",
    "    W = list()\n",
    "    b = list()\n",
    "    for i in range(n):\n",
    "        W.append(tf.Variable(tf.truncated_normal([sizes[i],sizes[i + 1]], stddev=0.1, dtype=tf.float32)))\n",
    "        b.append(tf.Variable(tf.constant(0.1, shape=[sizes[i + 1]], dtype=tf.float32)))\n",
    "    x_ = list()\n",
    "    x_.append(x)\n",
    "    L1 = 0\n",
    "    L2 = 0\n",
    "    for i in range(n - 1):\n",
    "        if nonlinearity == 'relu':\n",
    "            x_.append(tf.nn.relu(tf.matmul(x_[i], W[i]) + b[i]))\n",
    "        elif nonlinearity == 'sigma':\n",
    "            x_.append(tf.nn.sigmoid(tf.matmul(x_[i], W[i]) + b[i]))\n",
    "        L1 += tf.reduce_sum(tf.abs(W[i]))\n",
    "        L2 += tf.reduce_sum(tf.square(W[i]))\n",
    "    y_res = tf.matmul(x_[n - 1], W[n - 1]) + b[n - 1]\n",
    "    if regularized:\n",
    "        cross_entropy = tf.reduce_mean(\n",
    "            tf.nn.softmax_cross_entropy_with_logits(labels=y_, logits=y_res)) + lamb1 * L1 + lamb2 * L2\n",
    "    else:\n",
    "        cross_entropy = tf.reduce_mean(\n",
    "            tf.nn.softmax_cross_entropy_with_logits(labels=y_, logits=y_res))\n",
    "    train_step = tf.train.GradientDescentOptimizer(0.5).minimize(cross_entropy)\n",
    "    \n",
    "    correct_prediction = tf.equal(tf.argmax(y_res, 1), tf.argmax(y_, 1))\n",
    "    accuracy = tf.reduce_mean(tf.cast(correct_prediction, tf.float32))\n",
    "\n",
    "    with tf.Session() as sess:\n",
    "        sess.run(tf.global_variables_initializer())\n",
    "        for i in range(steps):\n",
    "            batch = mnist.train.next_batch(batch_s)\n",
    "            #if i % int(steps / 2) == 0:\n",
    "                #train_accuracy = accuracy.eval(feed_dict={\n",
    "                #x: batch[0], y_: batch[1]})\n",
    "                #print('step %d, training accuracy %g' % (i, train_accuracy))\n",
    "            train_step.run(feed_dict={x: batch[0], y_: batch[1]})\n",
    "        print('sizes:', sizes, ' nonlinearity:', nonlinearity, ' batch size:',\n",
    "              batch_s, ' steps:', steps, ' regularized:', regularized)\n",
    "        print('test accuracy %g' % accuracy.eval(feed_dict={\n",
    "            x: mnist.test.images, y_: mnist.test.labels}))"
   ]
  },
  {
   "cell_type": "code",
   "execution_count": 97,
   "metadata": {},
   "outputs": [
    {
     "name": "stdout",
     "output_type": "stream",
     "text": [
      "sizes: [784, 100, 10]  nonlinearity: relu  batch size: 64  steps: 1000  regularized: False\n",
      "test accuracy 0.96\n",
      "sizes: [784, 100, 10]  nonlinearity: relu  batch size: 64  steps: 1000  regularized: True\n",
      "test accuracy 0.9631\n",
      "sizes: [784, 500, 100, 10]  nonlinearity: sigma  batch size: 64  steps: 1000  regularized: False\n",
      "test accuracy 0.9171\n",
      "sizes: [784, 500, 200, 100, 50, 10]  nonlinearity: relu  batch size: 64  steps: 1000  regularized: False\n",
      "test accuracy 0.9575\n",
      "sizes: [784, 500, 200, 100, 50, 10]  nonlinearity: relu  batch size: 64  steps: 1000  regularized: True\n",
      "test accuracy 0.962\n",
      "sizes: [784, 600, 500, 400, 300, 200, 50, 10]  nonlinearity: sigma  batch size: 100  steps: 2000  regularized: False\n",
      "test accuracy 0.1357\n",
      "sizes: [784, 500, 200, 100, 50, 10]  nonlinearity: relu  batch size: 64  steps: 1000  regularized: True\n",
      "test accuracy 0.9662\n",
      "sizes: [784, 500, 100, 10]  nonlinearity: relu  batch size: 64  steps: 10000  regularized: False\n",
      "test accuracy 0.9828\n"
     ]
    }
   ],
   "source": [
    "create_your_neyro([784, 100, 10], 'relu')\n",
    "create_your_neyro([784, 100, 10], 'relu', regularized=True)\n",
    "create_your_neyro([784, 500, 100, 10], 'sigma')\n",
    "create_your_neyro([784, 500, 200, 100, 50, 10], 'relu', regularized=False)\n",
    "create_your_neyro([784, 500, 200, 100, 50, 10], 'relu', regularized=True)\n",
    "create_your_neyro([784, 600, 500, 400, 300, 200, 50, 10], 'sigma', batch_s=100, steps=2000)\n",
    "create_your_neyro([784, 500, 200, 100, 50, 10], 'relu', regularized=True)\n",
    "create_your_neyro([784, 500, 100, 10], 'relu', steps=10000)\n",
    "#create_your_neyro([784, 100, 10], 'relu')"
   ]
  },
  {
   "cell_type": "markdown",
   "metadata": {},
   "source": [
    "### 4. Autoencoders\n",
    "An autoencoder is an network used for unsupervised learning of efficient codings. The aim of an autoencoder is to learn a representation (encoding) for a set of data, typically for the purpose of dimensionality reduction. Also, this technique can be used to train deep nets.\n",
    "\n",
    "Architecturally, the simplest form of an autoencoder is a feedforward net very similar to the multilayer perceptron (MLP), but with the output layer having the same number of nodes as the input layer, and with the purpose of reconstructing its own inputs. Therefore, autoencoders are unsupervised learning models. An autoencoder always consists of two parts, the encoder and the decoder. Encoder returns latent representation of the object (compressed representation, usuallu smaller dimension), but decoder restores object from this latent representation. Autoencoders are also trained to minimise reconstruction errors (e.g. MSE).\n",
    "\n",
    "Various techniques exist to prevent autoencoders from learning the identity and to improve their ability to capture important information:\n",
    "1. Denoising autoencoder - take a partially corrupted input.\n",
    "2. Sparse autoencoder - impose sparsity on the hidden units during training (whilst having a larger number of hidden units than inputs).\n",
    "3. Variational autoencoder models inherit autoencoder architecture, but make strong assumptions concerning the distribution of latent variables.\n",
    "4. Contractive autoencoder - add an explicit regularizer in objective function that forces the model to learn a function that is robust to slight variations of input values.\n",
    "\n",
    "#### Exercises\n",
    "1. Train 2 layers autoencoder that compressed mnist images to $\\mathbb{R}^3$ space.\n",
    "2. For each digit plot several samples in 3D axis (use \"%matplotlib notebook\" mode or plotly). How do digits group?\n",
    "3. Train autoencoder with more layers. What are results?\n",
    "4. Use autoencoder to pretrain 2 layers (unsupervised) and then train the following layers with supervised method."
   ]
  },
  {
   "cell_type": "code",
   "execution_count": 5,
   "metadata": {
    "scrolled": true
   },
   "outputs": [
    {
     "name": "stdout",
     "output_type": "stream",
     "text": [
      "on step 0 current value of func: 4.1419e+07\n",
      "on step 100 current value of func: 3.25243e+06\n",
      "on step 200 current value of func: 2.36589e+06\n",
      "on step 300 current value of func: 2.0054e+06\n",
      "on step 400 current value of func: 1.73328e+06\n",
      "on step 500 current value of func: 1.59987e+06\n",
      "on step 600 current value of func: 1.556e+06\n",
      "on step 700 current value of func: 1.52774e+06\n",
      "on step 800 current value of func: 1.50284e+06\n",
      "on step 900 current value of func: 1.446e+06\n"
     ]
    },
    {
     "data": {
      "image/png": "[encoded data removed]",
      "text/plain": [
       "<matplotlib.figure.Figure at 0x116c37c50>"
      ]
     },
     "metadata": {},
     "output_type": "display_data"
    },
    {
     "data": {
      "image/png": "[encoded data removed]",
      "text/plain": [
       "<matplotlib.figure.Figure at 0x141e3dfd0>"
      ]
     },
     "metadata": {},
     "output_type": "display_data"
    },
    {
     "data": {
      "image/png": "[encoded data removed]",
      "text/plain": [
       "<matplotlib.figure.Figure at 0x141da1748>"
      ]
     },
     "metadata": {},
     "output_type": "display_data"
    },
    {
     "data": {
      "image/png": "[encoded data removed]",
      "text/plain": [
       "<matplotlib.figure.Figure at 0x116d34eb8>"
      ]
     },
     "metadata": {},
     "output_type": "display_data"
    }
   ],
   "source": [
    "import tensorflow as tf\n",
    "import numpy as np\n",
    "sess = tf.InteractiveSession()\n",
    "x = tf.placeholder(tf.float32, shape=[None, 784])\n",
    "\n",
    "W_1 = tf.Variable(tf.truncated_normal([784,400], stddev=0.1))\n",
    "b_1 = tf.Variable(tf.constant(0.1, shape=[400]))\n",
    "h_1 = tf.nn.relu(tf.matmul(x, W_1) + b_1) \n",
    "\n",
    "W_2 = tf.Variable(tf.truncated_normal([400, 784], stddev=0.1))\n",
    "b_2 = tf.Variable(tf.constant(0.1, shape=[784]))\n",
    "x_res = tf.matmul(h_1, W_2) + b_2\n",
    "\n",
    "autoencoder = tf.reduce_sum(tf.square(x - x_res))\n",
    "train_step = tf.train.AdamOptimizer(0.001).minimize(autoencoder)\n",
    "cur = tf.reduce_sum(tf.square(x - x_res))\n",
    "with tf.Session() as sess:\n",
    "    sess.run(tf.global_variables_initializer())\n",
    "    for i in range(1000):\n",
    "        batch = mnist.train.next_batch(60)\n",
    "        train_step.run(feed_dict={x: batch[0]})\n",
    "        if i % 100 == 0:\n",
    "            cur_z = sess.run(cur, feed_dict={x: mnist.train.images})\n",
    "            print('on step', i, 'current value of func:', cur_z)\n",
    "    X = sess.run(x_res, feed_dict={x: mnist.train.images})\n",
    "    printNum(X[0])\n",
    "    printNum(X[10])\n",
    "    printNum(X[100])\n",
    "    printNum(X[1000])"
   ]
  },
  {
   "cell_type": "code",
   "execution_count": 6,
   "metadata": {
    "scrolled": true
   },
   "outputs": [
    {
     "name": "stdout",
     "output_type": "stream",
     "text": [
      "on step 0 current value of func: 4.21072e+06\n",
      "on step 100 current value of func: 2.89863e+06\n",
      "on step 200 current value of func: 2.89698e+06\n",
      "on step 300 current value of func: 2.89828e+06\n",
      "on step 400 current value of func: 2.85219e+06\n",
      "on step 500 current value of func: 2.65275e+06\n",
      "on step 600 current value of func: 2.45669e+06\n",
      "on step 700 current value of func: 2.26997e+06\n",
      "on step 800 current value of func: 2.20513e+06\n",
      "on step 900 current value of func: 2.15046e+06\n"
     ]
    },
    {
     "data": {
      "image/png": "[encoded data removed]",
      "text/plain": [
       "<matplotlib.figure.Figure at 0x115c96f28>"
      ]
     },
     "metadata": {},
     "output_type": "display_data"
    },
    {
     "data": {
      "image/png": "[encoded data removed]",
      "text/plain": [
       "<matplotlib.figure.Figure at 0x124a585f8>"
      ]
     },
     "metadata": {},
     "output_type": "display_data"
    },
    {
     "data": {
      "image/png": "[encoded data removed]",
      "text/plain": [
       "<matplotlib.figure.Figure at 0x124950518>"
      ]
     },
     "metadata": {},
     "output_type": "display_data"
    },
    {
     "data": {
      "image/png": "[encoded data removed]",
      "text/plain": [
       "<matplotlib.figure.Figure at 0x1249f3940>"
      ]
     },
     "metadata": {},
     "output_type": "display_data"
    }
   ],
   "source": [
    "import tensorflow as tf\n",
    "import numpy as np\n",
    "sess = tf.InteractiveSession()\n",
    "x = tf.placeholder(tf.float32, shape=[None, 784])\n",
    "\n",
    "W_1 = tf.Variable(tf.truncated_normal([784,49], stddev=0.1))\n",
    "b_1 = tf.Variable(tf.constant(0.1, shape=[49]))\n",
    "h_1 = tf.nn.relu(tf.matmul(x, W_1) + b_1) \n",
    "\n",
    "W_2 = tf.Variable(tf.truncated_normal([49,3], stddev=0.1))\n",
    "b_2 = tf.Variable(tf.constant(0.1, shape=[3]))\n",
    "h_2_for_out = tf.matmul(h_1, W_2) + b_2\n",
    "h_2 = tf.nn.relu(h_2_for_out)\n",
    "\n",
    "W_3 = tf.Variable(tf.truncated_normal([3, 49], stddev=0.1))\n",
    "b_3 = tf.Variable(tf.constant(0.1, shape=[49]))\n",
    "h_3 = tf.nn.relu(tf.matmul(h_2, W_3) + b_3) \n",
    "\n",
    "W_4 = tf.Variable(tf.truncated_normal([49, 784], stddev=0.1))\n",
    "b_4 = tf.Variable(tf.constant(0.1, shape=[784]))\n",
    "x_res = tf.matmul(h_3, W_4) + b_4\n",
    "\n",
    "autoencoder = tf.reduce_sum(tf.square(x - x_res))\n",
    "train_step = tf.train.AdamOptimizer(0.001).minimize(autoencoder)\n",
    "cur = tf.reduce_sum(tf.square(x - x_res))\n",
    "with tf.Session() as sess:\n",
    "    sess.run(tf.global_variables_initializer())\n",
    "    for i in range(1000):\n",
    "        batch = mnist.train.next_batch(60)\n",
    "        train_step.run(feed_dict={x: batch[0]})\n",
    "        if i % 100 == 0:\n",
    "            cur_z = sess.run(cur, feed_dict={x: mnist.train.images})\n",
    "            print('on step', i, 'current value of func:', cur_z)\n",
    "    X = sess.run(x_res, feed_dict={x: mnist.train.images})\n",
    "    in3 = sess.run(h_2_for_out, feed_dict={x: mnist.train.images})\n",
    "    printNum(X[0])\n",
    "    printNum(X[10])\n",
    "    printNum(X[100])\n",
    "    printNum(X[1000])"
   ]
  },
  {
   "cell_type": "code",
   "execution_count": 7,
   "metadata": {
    "collapsed": true
   },
   "outputs": [],
   "source": [
    "import plotly \n",
    "plotly.tools.set_credentials_file(username='foxxmary', api_key='CKPpmmLdHgYSQCjAKdI7')"
   ]
  },
  {
   "cell_type": "code",
   "execution_count": 8,
   "metadata": {
    "scrolled": false
   },
   "outputs": [
    {
     "data": {
      "text/html": [
       "<iframe id=\"igraph\" scrolling=\"no\" style=\"border:none;\" seamless=\"seamless\" src=\"https://plot.ly/~foxxmary/4.embed\" height=\"525px\" width=\"100%\"></iframe>"
      ],
      "text/plain": [
       "<plotly.tools.PlotlyDisplay object>"
      ]
     },
     "execution_count": 8,
     "metadata": {},
     "output_type": "execute_result"
    }
   ],
   "source": [
    "import plotly.plotly as py\n",
    "import plotly.graph_objs as go\n",
    "\n",
    "import numpy as np\n",
    "num_points = 20\n",
    "lb = np.zeros((11, num_points), dtype=np.int32)\n",
    "point = np.zeros(10, dtype=np.int32)\n",
    "for i in range(num_points * 20):\n",
    "    j = 0\n",
    "    while mnist.train.labels[i][j] != 1:\n",
    "        j += 1\n",
    "    if point[j] < num_points:\n",
    "        lb[j][point[j]] = i\n",
    "    point[j] += 1\n",
    "\n",
    "data = []\n",
    "for i in range(11):\n",
    "    trace = go.Scatter3d(\n",
    "        x=in3.T[0][lb[i]],\n",
    "        y=in3.T[1][lb[i]],\n",
    "        z=in3.T[2][lb[i]],\n",
    "        mode='markers',\n",
    "        marker=dict(\n",
    "            size=5,\n",
    "            line=dict(\n",
    "                color='rgba(%d, %d, %d, 0.14)' % (((i + 10) * 25) % 255,\n",
    "                                                  ((i + 5)^3) % 255,\n",
    "                                                  (i * 500) % 255),\n",
    "                width=0.5\n",
    "            ),\n",
    "            opacity=0.8\n",
    "        )\n",
    "    )\n",
    "    data.append(trace)\n",
    "layout = go.Layout(\n",
    "    margin=dict(\n",
    "        l=0,\n",
    "        r=0,\n",
    "        b=0,\n",
    "        t=0\n",
    "    )\n",
    ")\n",
    "fig = go.Figure(data=data, layout=layout)\n",
    "py.iplot(fig, filename='simple-3d-scatter')\n",
    "#разделены типо плоскостями, с D=0"
   ]
  },
  {
   "cell_type": "code",
   "execution_count": 102,
   "metadata": {
    "collapsed": true
   },
   "outputs": [],
   "source": [
    "import tensorflow as tf\n",
    "import numpy as np\n",
    "def create_your_autoencoder(sizes, nonlinearity, batch_s=64, steps=1000, regularized=False):\n",
    "    #fill variables\n",
    "    lamb1 = 0.00003\n",
    "    lamb2 = 0.0001\n",
    "    n = len(sizes) - 1\n",
    "    j = len(sizes) - 2\n",
    "    for i in range(len(sizes) - 1):\n",
    "        sizes.append(sizes[j])\n",
    "        j -= 1\n",
    "    n = len(sizes) - 1\n",
    "    x = tf.placeholder(tf.float32, shape=[None, 784])\n",
    "    y_ = tf.placeholder(tf.float32, shape=[None, 10])\n",
    "    W = list()\n",
    "    b = list()\n",
    "    for i in range(n):\n",
    "        W.append(tf.Variable(tf.truncated_normal([sizes[i],sizes[i + 1]], stddev=0.1, dtype=tf.float32)))\n",
    "        b.append(tf.Variable(tf.constant(0.1, shape=[sizes[i + 1]], dtype=tf.float32)))\n",
    "    x_ = list()\n",
    "    x_.append(x)\n",
    "    L1 = 0\n",
    "    L2 = 0\n",
    "    for i in range(n - 1):\n",
    "        if nonlinearity == 'relu':\n",
    "            x_.append(tf.nn.relu(tf.matmul(x_[i], W[i]) + b[i]))\n",
    "        elif nonlinearity == 'sigma':\n",
    "            x_.append(tf.nn.sigmoid(tf.matmul(x_[i], W[i]) + b[i]))\n",
    "        L1 += tf.reduce_sum(tf.abs(W[i]))\n",
    "        L2 += tf.reduce_sum(tf.square(W[i]))\n",
    "    x_res = tf.matmul(x_[n - 1], W[n - 1]) + b[n - 1]\n",
    "    \n",
    "    autoencoder = tf.reduce_sum(tf.square(x - x_res))\n",
    "    train_step = tf.train.AdamOptimizer(0.001).minimize(autoencoder)\n",
    "    cur = tf.reduce_sum(tf.square(x - x_res))\n",
    "    with tf.Session() as sess:\n",
    "        sess.run(tf.global_variables_initializer())\n",
    "        for i in range(steps):\n",
    "            batch = mnist.train.next_batch(batch_s)\n",
    "            train_step.run(feed_dict={x: batch[0]})\n",
    "            #if i % 100 == 0:\n",
    "                #cur_z = sess.run(cur, feed_dict={x: mnist.train.images})\n",
    "                #print('on step', i, 'current value of func:', cur_z)\n",
    "        print('sizes:', sizes, ' nonlinearity:', nonlinearity, ' batch size:',\n",
    "              batch_s, ' steps:', steps, ' regularized:', regularized)   \n",
    "        print('test accuracy %g' % sess.run(cur, feed_dict={x: mnist.train.images}))\n",
    "        outW = sess.run(W[:int((len(sizes) - 1) / 2)], feed_dict={x: mnist.train.images})\n",
    "        outb = sess.run(b[:int((len(sizes) - 1) / 2)], feed_dict={x: mnist.train.images})\n",
    "        X = sess.run(x_res, feed_dict={x: mnist.train.images})\n",
    "        printNum(X[0])\n",
    "    return outW, outb"
   ]
  },
  {
   "cell_type": "code",
   "execution_count": 103,
   "metadata": {},
   "outputs": [
    {
     "name": "stdout",
     "output_type": "stream",
     "text": [
      "sizes: [784, 400, 200, 100, 20, 100, 200, 400, 784]  nonlinearity: relu  batch size: 64  steps: 1000  regularized: False\n",
      "test accuracy 1.54987e+06\n"
     ]
    },
    {
     "data": {
      "image/png": "[encoded data removed]",
      "text/plain": [
       "<matplotlib.figure.Figure at 0x1a41eca58>"
      ]
     },
     "metadata": {},
     "output_type": "display_data"
    },
    {
     "name": "stdout",
     "output_type": "stream",
     "text": [
      "sizes: [784, 400, 200, 100, 20, 100, 200, 400, 784]  nonlinearity: relu  batch size: 64  steps: 100  regularized: False\n",
      "test accuracy 2.90176e+06\n"
     ]
    },
    {
     "data": {
      "image/png": "[encoded data removed]",
      "text/plain": [
       "<matplotlib.figure.Figure at 0x1a2decba8>"
      ]
     },
     "metadata": {},
     "output_type": "display_data"
    },
    {
     "name": "stdout",
     "output_type": "stream",
     "text": [
      "sizes: [784, 50, 784]  nonlinearity: sigma  batch size: 64  steps: 1000  regularized: False\n",
      "test accuracy 888593\n"
     ]
    },
    {
     "data": {
      "image/png": "[encoded data removed]",
      "text/plain": [
       "<matplotlib.figure.Figure at 0x1a4424f98>"
      ]
     },
     "metadata": {},
     "output_type": "display_data"
    },
    {
     "name": "stdout",
     "output_type": "stream",
     "text": [
      "sizes: [784, 100, 10, 100, 784]  nonlinearity: relu  batch size: 64  steps: 1000  regularized: True\n",
      "test accuracy 1.89315e+06\n"
     ]
    },
    {
     "data": {
      "image/png": "[encoded data removed]",
      "text/plain": [
       "<matplotlib.figure.Figure at 0x1ab476a58>"
      ]
     },
     "metadata": {},
     "output_type": "display_data"
    },
    {
     "name": "stdout",
     "output_type": "stream",
     "text": [
      "sizes: [784, 600, 500, 400, 300, 200, 100, 2, 100, 200, 300, 400, 500, 600, 784]  nonlinearity: sigma  batch size: 64  steps: 1000  regularized: False\n",
      "test accuracy 2.89952e+06\n"
     ]
    },
    {
     "data": {
      "image/png": "[encoded data removed]",
      "text/plain": [
       "<matplotlib.figure.Figure at 0x1a3312d68>"
      ]
     },
     "metadata": {},
     "output_type": "display_data"
    },
    {
     "name": "stdout",
     "output_type": "stream",
     "text": [
      "sizes: [784, 200, 50, 12, 50, 200, 784]  nonlinearity: relu  batch size: 64  steps: 1000  regularized: False\n",
      "test accuracy 1.25765e+06\n"
     ]
    },
    {
     "data": {
      "image/png": "[encoded data removed]",
      "text/plain": [
       "<matplotlib.figure.Figure at 0x1a4890dd8>"
      ]
     },
     "metadata": {},
     "output_type": "display_data"
    },
    {
     "data": {
      "text/plain": [
       "([array([[-0.11320827, -0.18158613,  0.03980019, ...,  0.11534774,\n",
       "           0.02494872,  0.05177542],\n",
       "         [ 0.07524154, -0.06956302,  0.11793619, ..., -0.05253396,\n",
       "          -0.08153358,  0.1116024 ],\n",
       "         [-0.04759965, -0.1622054 , -0.02607214, ...,  0.13839002,\n",
       "          -0.1267865 , -0.14129411],\n",
       "         ..., \n",
       "         [-0.03317644,  0.03490385, -0.08995017, ..., -0.03011133,\n",
       "          -0.16117853, -0.16204622],\n",
       "         [ 0.12577529, -0.01161129,  0.10310357, ..., -0.18722787,\n",
       "          -0.03527439, -0.0534319 ],\n",
       "         [-0.11653403,  0.00147236, -0.19021058, ...,  0.04303899,\n",
       "           0.18830743,  0.00894897]], dtype=float32),\n",
       "  array([[ 0.06761333,  0.13122693, -0.13913396, ...,  0.0177677 ,\n",
       "          -0.08275414, -0.11868746],\n",
       "         [ 0.00917601, -0.02395767, -0.08366683, ..., -0.01295183,\n",
       "           0.03873656, -0.07228006],\n",
       "         [ 0.08989082, -0.07386295, -0.02534753, ..., -0.00591303,\n",
       "           0.12028369,  0.07899746],\n",
       "         ..., \n",
       "         [ 0.00511524, -0.12742989,  0.11696099, ..., -0.08945732,\n",
       "          -0.01006816, -0.04776262],\n",
       "         [-0.03651302,  0.11581406,  0.03619687, ...,  0.07438744,\n",
       "           0.03474405, -0.12185605],\n",
       "         [ 0.04196984, -0.11704145, -0.10275035, ...,  0.02009218,\n",
       "          -0.07664651, -0.0583832 ]], dtype=float32),\n",
       "  array([[ -7.88733829e-03,  -4.95427288e-02,  -2.40899622e-03,\n",
       "           -1.55872731e-02,   5.65632321e-02,  -2.18499172e-03,\n",
       "           -1.42970160e-01,   3.07873804e-02,  -1.19287349e-01,\n",
       "            4.98475693e-02,  -6.55763550e-04,  -1.56314567e-01],\n",
       "         [ -1.02419503e-01,   1.49568659e-03,   2.51110829e-02,\n",
       "            4.17105528e-03,  -9.36163589e-02,  -1.28745720e-01,\n",
       "           -5.04479371e-02,   9.04013887e-02,  -9.36612710e-02,\n",
       "           -9.24677178e-02,   5.98234572e-02,  -9.57579240e-02],\n",
       "         [  1.27781302e-01,   1.96147952e-02,  -4.72829975e-02,\n",
       "           -1.11192137e-01,  -1.87750265e-03,  -7.10800698e-04,\n",
       "            5.74632809e-02,  -1.37934629e-02,  -1.25953153e-01,\n",
       "            1.64025389e-02,   1.10018961e-01,  -2.36955602e-02],\n",
       "         [  5.44584617e-02,   1.42422646e-01,   6.21833242e-02,\n",
       "           -3.56574021e-02,  -5.41334637e-02,   1.13916062e-01,\n",
       "           -6.47108555e-02,  -7.42446929e-02,   3.51368566e-03,\n",
       "           -1.21305333e-02,   2.13222697e-01,   1.58302709e-01],\n",
       "         [ -1.47122638e-02,   1.33825704e-01,   1.03911117e-01,\n",
       "           -2.25647204e-02,   1.40503332e-01,  -1.30058140e-01,\n",
       "           -5.31718694e-02,   9.21694860e-02,  -8.12375247e-02,\n",
       "           -4.66074608e-02,   1.11296035e-01,  -7.75127262e-02],\n",
       "         [ -6.26803562e-02,  -7.12471828e-02,  -1.71992704e-01,\n",
       "           -4.17540446e-02,  -6.70052767e-02,  -6.47245720e-02,\n",
       "           -5.04166959e-03,  -1.16168961e-01,   5.30916080e-02,\n",
       "            9.26322192e-02,  -7.55877644e-02,   7.50423074e-02],\n",
       "         [  7.14715049e-02,  -1.77469015e-01,  -4.67130169e-02,\n",
       "            3.21834385e-02,  -1.52721897e-01,   3.73866931e-02,\n",
       "            9.85984057e-02,   4.15076204e-02,   5.23187704e-02,\n",
       "           -3.99164446e-02,   1.60267148e-02,   8.55312943e-02],\n",
       "         [  5.18082082e-02,   1.67333244e-04,  -6.56855032e-02,\n",
       "           -1.74946114e-02,  -1.07788257e-01,  -2.78209038e-02,\n",
       "           -3.67553495e-02,  -3.68691683e-02,  -5.96140847e-02,\n",
       "            3.53413559e-02,  -1.47856817e-01,  -5.48839569e-02],\n",
       "         [ -3.23983990e-02,  -4.16996777e-02,   1.30030349e-01,\n",
       "            1.09411962e-01,  -2.05854066e-02,  -5.71657345e-02,\n",
       "           -6.17282800e-02,   7.12697580e-02,  -1.68581724e-01,\n",
       "           -8.02522302e-02,   1.64192781e-01,  -1.64590348e-02],\n",
       "         [ -9.96158049e-02,  -3.88799608e-02,  -1.35323536e-02,\n",
       "           -1.09378763e-01,   8.74870941e-02,  -1.48728061e-02,\n",
       "            2.86012068e-02,  -1.44232616e-01,  -4.81776781e-02,\n",
       "            2.47075642e-03,   9.52475425e-03,  -6.59314170e-02],\n",
       "         [  1.86714381e-02,   7.94392750e-02,  -4.80728298e-02,\n",
       "           -5.84086515e-02,   1.38973057e-01,  -5.75109087e-02,\n",
       "           -5.55441678e-02,   1.43640302e-02,  -4.70208675e-02,\n",
       "            6.66998327e-02,   3.63333225e-02,   6.62303790e-02],\n",
       "         [  2.08354611e-02,  -5.42753674e-02,   1.00385085e-01,\n",
       "            1.23787865e-01,   3.94855626e-02,   1.63099304e-01,\n",
       "           -3.45341675e-02,  -1.76222548e-02,  -1.64009914e-01,\n",
       "            2.82352790e-02,  -1.62624866e-02,   1.19106220e-02],\n",
       "         [  1.03806324e-01,  -1.14685586e-02,  -1.11802481e-01,\n",
       "           -8.16801563e-02,  -9.65336990e-03,   6.50071427e-02,\n",
       "            1.35870218e-01,  -6.12443462e-02,  -8.48431606e-04,\n",
       "            1.73862919e-01,  -5.76499887e-02,   5.46537116e-02],\n",
       "         [  8.46726745e-02,   1.14558741e-01,  -3.97446416e-02,\n",
       "           -1.56155035e-01,  -3.62483002e-02,   1.53302982e-01,\n",
       "            5.20327240e-02,  -9.38797444e-02,  -1.51025862e-01,\n",
       "            9.78175178e-02,  -1.66902170e-01,  -1.69851646e-01],\n",
       "         [ -3.54863182e-02,  -1.13785882e-02,   1.03683360e-01,\n",
       "            4.27332073e-02,   1.74294457e-01,   1.54392511e-01,\n",
       "            2.40909066e-02,  -1.03225470e-01,  -3.14457080e-04,\n",
       "            3.61466557e-02,   2.15031244e-02,   1.07488006e-01],\n",
       "         [  1.37894779e-01,   1.15210824e-01,   7.80473426e-02,\n",
       "            6.37761280e-02,  -1.74977984e-02,   1.91493213e-01,\n",
       "            1.44750625e-01,   1.52054235e-01,  -3.88556458e-02,\n",
       "           -1.68480709e-01,  -6.61798706e-03,   5.74847087e-02],\n",
       "         [  2.14658082e-02,  -1.11646168e-01,  -2.18143295e-02,\n",
       "           -1.59128949e-01,  -5.47401421e-03,   2.79796147e-03,\n",
       "           -1.12894386e-01,   6.52374923e-02,  -6.27219751e-02,\n",
       "           -1.13752767e-01,  -7.60364309e-02,  -7.54899392e-03],\n",
       "         [  9.01466385e-02,   4.43734713e-02,   9.83269699e-03,\n",
       "            1.68575585e-01,  -1.49475560e-02,  -1.42718166e-01,\n",
       "            6.29095957e-02,   1.76791862e-01,  -1.62852243e-01,\n",
       "           -1.37043238e-01,   7.85819143e-02,  -1.11208156e-01],\n",
       "         [ -1.31667526e-02,   9.57890972e-02,  -2.28798911e-02,\n",
       "            5.75309880e-02,   1.86045513e-01,  -1.28464252e-01,\n",
       "           -8.30676630e-02,  -3.89975868e-02,   3.37088220e-02,\n",
       "           -1.09085202e-01,   1.83513276e-02,   1.25031983e-02],\n",
       "         [  5.28800152e-02,  -3.62598933e-02,   7.72939771e-02,\n",
       "            6.84296414e-02,  -3.54768187e-02,   1.74149945e-01,\n",
       "            9.69797224e-02,  -1.32886365e-01,  -1.27082378e-01,\n",
       "           -6.79270402e-02,   9.14445072e-02,   6.14891835e-02],\n",
       "         [ -8.39455053e-02,   1.13760576e-01,   5.10270856e-02,\n",
       "            7.12395310e-02,   1.48744425e-02,  -6.02460615e-02,\n",
       "            3.00546717e-02,  -1.80021301e-01,   1.57402791e-02,\n",
       "            1.62249000e-03,  -1.35729760e-02,  -1.70978159e-01],\n",
       "         [  1.58706486e-01,   1.31175369e-01,   6.97198585e-02,\n",
       "            1.60046011e-01,   7.64171174e-03,   8.78595561e-03,\n",
       "           -2.33440218e-03,  -5.05120605e-02,   1.28015429e-01,\n",
       "           -1.73127398e-01,  -1.38642732e-02,  -8.77158716e-02],\n",
       "         [  3.23105492e-02,  -1.13556907e-01,   1.41034666e-02,\n",
       "           -1.68337852e-01,  -5.65667003e-02,  -4.56897281e-02,\n",
       "            2.22210102e-02,   1.91460982e-01,  -9.02087390e-02,\n",
       "           -4.04296182e-02,  -2.96218842e-02,  -2.82524414e-02],\n",
       "         [  3.31151043e-03,   4.77641411e-02,  -1.38030946e-01,\n",
       "           -1.34461626e-01,  -5.60629740e-03,  -3.37048434e-02,\n",
       "           -9.19331983e-03,   3.16280797e-02,  -3.60321105e-02,\n",
       "           -6.71915114e-02,   1.58730641e-01,  -6.87111914e-02],\n",
       "         [ -4.48349044e-02,   2.25698743e-02,   1.50513694e-01,\n",
       "            4.02311236e-02,  -1.33306921e-01,  -1.39960349e-01,\n",
       "            1.07066169e-01,  -3.79461609e-03,   9.51685943e-03,\n",
       "            1.60470501e-01,  -1.36642024e-01,   8.84559974e-02],\n",
       "         [  7.48812482e-02,  -1.11570032e-02,  -9.70557928e-02,\n",
       "           -6.78374944e-03,  -2.66243424e-02,  -1.92075729e-01,\n",
       "            1.24517709e-01,   1.01543795e-02,   8.74268562e-02,\n",
       "            1.48028314e-01,  -4.98360172e-02,   3.08242207e-03],\n",
       "         [  7.60788321e-02,  -2.28033997e-02,  -7.75899291e-02,\n",
       "            8.71829987e-02,   4.57640588e-02,   3.71015221e-02,\n",
       "           -6.25817105e-02,  -1.48691481e-03,  -2.69880630e-02,\n",
       "           -6.74691647e-02,  -1.26433522e-01,  -3.90527807e-02],\n",
       "         [  1.88259874e-02,   1.81279145e-02,  -2.31685564e-02,\n",
       "           -2.09792703e-01,   1.42744526e-01,  -1.09671406e-01,\n",
       "            1.76891506e-01,  -5.75772226e-02,  -4.15827706e-02,\n",
       "            2.97982525e-02,   8.68989006e-02,   3.94967869e-02],\n",
       "         [  9.77986865e-03,   9.03769210e-02,   4.85433172e-03,\n",
       "            1.37857825e-01,   1.13628879e-01,  -7.22197890e-02,\n",
       "            3.25694159e-02,   2.66872216e-02,   6.72477633e-02,\n",
       "           -9.37536955e-02,  -6.91282004e-02,  -1.94091573e-02],\n",
       "         [ -5.61595988e-03,   4.57703061e-02,   8.80804956e-02,\n",
       "            1.15333058e-01,  -7.31642768e-02,  -4.86022830e-02,\n",
       "            8.21160674e-02,  -6.37042522e-02,   2.51839459e-02,\n",
       "           -1.45600485e-02,   1.52378967e-02,  -2.88458616e-02],\n",
       "         [ -7.10930815e-03,   3.23734432e-02,   5.34517094e-02,\n",
       "            3.17773633e-02,  -1.12259746e-01,   9.66538582e-03,\n",
       "            3.53763849e-02,   1.26962706e-01,  -6.36600256e-02,\n",
       "           -1.13571808e-01,  -3.32891792e-02,   1.75379738e-01],\n",
       "         [ -1.86024476e-02,  -2.07007267e-02,  -1.07203357e-01,\n",
       "            2.27359612e-03,   2.66130920e-02,  -1.55511172e-02,\n",
       "           -4.85911546e-03,  -3.98883373e-02,  -1.25526682e-01,\n",
       "           -1.46224648e-01,   7.51031786e-02,   1.23693019e-01],\n",
       "         [  8.03858042e-02,  -7.25028813e-02,  -5.28486297e-02,\n",
       "            1.82457700e-01,   1.22935928e-01,   5.59326224e-02,\n",
       "           -1.30887544e-02,   2.44878698e-02,   1.28800675e-01,\n",
       "           -7.63010001e-03,   4.65339199e-02,  -4.27981094e-02],\n",
       "         [ -1.72388125e-02,   1.00387394e-01,  -1.27857074e-01,\n",
       "            3.55074741e-03,   5.60499877e-02,   1.01096459e-01,\n",
       "            8.54210779e-02,  -5.62732443e-02,   3.28972824e-02,\n",
       "           -2.51601245e-02,  -1.34601191e-01,  -6.67604133e-02],\n",
       "         [  1.22394171e-02,   5.51206879e-02,   6.87621310e-02,\n",
       "            3.16252820e-02,  -1.89775210e-02,  -9.97237936e-02,\n",
       "            6.67914376e-02,  -5.11920720e-04,   5.41159324e-02,\n",
       "           -5.86013161e-02,   1.51692033e-01,   2.99098738e-03],\n",
       "         [ -5.82169965e-02,   5.91660477e-02,  -7.53714070e-02,\n",
       "            5.22240438e-02,   5.24568697e-03,   1.01346523e-01,\n",
       "           -9.32743102e-02,   3.60708162e-02,   8.39624703e-02,\n",
       "           -1.32548004e-01,   4.40720506e-02,  -1.02869205e-01],\n",
       "         [ -4.47980389e-02,  -6.98568001e-02,   1.29497871e-01,\n",
       "           -2.08921537e-01,   5.18477755e-03,  -3.45933735e-02,\n",
       "            5.71672048e-04,  -1.22201614e-01,   9.78572145e-02,\n",
       "           -1.04249775e-01,  -5.22118211e-02,  -4.64115664e-02],\n",
       "         [  3.04147061e-02,  -1.12107797e-02,   1.95102647e-01,\n",
       "           -3.60146798e-02,   1.21990465e-01,  -4.50013168e-02,\n",
       "            1.72325410e-02,  -1.53282464e-01,  -1.16000939e-02,\n",
       "           -1.04855016e-01,   9.37117264e-03,   2.75775716e-02],\n",
       "         [ -2.57919077e-02,   1.78929016e-01,  -5.54673932e-03,\n",
       "            5.73333353e-02,   1.74871296e-01,   1.35882899e-01,\n",
       "            8.86431038e-02,   1.18377414e-02,   2.47254055e-02,\n",
       "           -1.30168587e-01,   4.55517843e-02,  -2.32017878e-02],\n",
       "         [ -6.71733096e-02,   3.62581946e-02,   1.42670631e-01,\n",
       "            7.58787245e-02,   5.43624982e-02,  -9.96286646e-02,\n",
       "           -3.13629285e-02,   4.52249497e-03,  -1.29338913e-02,\n",
       "           -2.44357437e-02,   3.72433998e-02,  -7.54741132e-02],\n",
       "         [  3.13897384e-03,   7.58826882e-02,  -3.53693031e-02,\n",
       "            6.51114285e-02,   1.02563709e-01,  -5.72063327e-02,\n",
       "           -2.31105946e-02,   1.06729753e-01,   1.55367714e-03,\n",
       "            2.30921190e-02,  -1.05781265e-01,   1.23384953e-01],\n",
       "         [  1.60815880e-01,  -4.27674018e-02,   1.40897762e-02,\n",
       "            1.11109585e-01,  -1.22148827e-01,  -5.96123748e-02,\n",
       "            1.02006115e-01,   3.29109430e-02,  -1.92556411e-01,\n",
       "            1.33327514e-01,  -1.71302736e-01,   1.47967026e-01],\n",
       "         [  5.33688851e-02,  -1.30689561e-01,   1.13985091e-01,\n",
       "           -1.08791003e-02,   1.38768256e-02,   1.42148972e-01,\n",
       "            4.79810163e-02,   6.19100593e-02,   5.30526079e-02,\n",
       "           -9.53528583e-02,   3.44917513e-02,   4.03182488e-03],\n",
       "         [  5.12020588e-02,   7.98389018e-02,  -1.28807887e-01,\n",
       "            7.41588846e-02,  -7.80686811e-02,   6.96357489e-02,\n",
       "           -4.98167388e-02,  -6.03938438e-02,   1.09245420e-01,\n",
       "           -3.67175043e-02,  -3.87885384e-02,   1.53846398e-01],\n",
       "         [ -9.04774889e-02,  -7.65763000e-02,  -1.77987497e-02,\n",
       "            8.77510831e-02,   6.28188401e-02,  -3.89147960e-02,\n",
       "            5.65702692e-02,  -1.25799030e-01,   6.75367787e-02,\n",
       "           -3.05129103e-02,  -2.86288336e-02,   3.00247804e-03],\n",
       "         [  1.75618250e-02,   8.54192860e-03,   9.90912318e-02,\n",
       "            1.13879666e-01,   3.20893563e-02,  -8.47270712e-02,\n",
       "           -1.39951617e-01,  -5.44627346e-02,   1.00748474e-02,\n",
       "            4.40023392e-02,   3.42480689e-02,   5.54593503e-02],\n",
       "         [  9.56126824e-02,   7.47785419e-02,   2.07194462e-01,\n",
       "           -6.37481660e-02,  -4.93736230e-02,   1.71700306e-02,\n",
       "           -1.17850572e-01,  -1.26287742e-02,  -4.14556526e-02,\n",
       "            6.80092797e-02,  -7.00062364e-02,  -3.64297791e-03],\n",
       "         [ -1.17467940e-01,  -1.34907076e-02,   1.61143884e-01,\n",
       "            1.17742624e-02,   5.74390329e-02,  -3.31464298e-02,\n",
       "           -5.99803701e-02,  -2.51669697e-02,  -1.31814882e-01,\n",
       "           -1.27307951e-01,   7.93728903e-02,   2.19279528e-02],\n",
       "         [  3.99301983e-02,  -4.14737947e-02,  -1.32663980e-01,\n",
       "           -8.02666917e-02,   9.54296738e-02,  -4.31805402e-02,\n",
       "            5.72732650e-02,  -1.34769008e-01,   1.06954254e-01,\n",
       "            1.35874018e-01,   9.65324193e-02,  -1.56610634e-03],\n",
       "         [ -1.53606758e-01,   1.21486679e-01,  -1.78080071e-02,\n",
       "            1.65090505e-02,  -1.06531151e-01,   4.71199714e-02,\n",
       "            4.49120440e-02,  -6.23762701e-03,   1.66627452e-01,\n",
       "            1.40090764e-01,   1.84431702e-01,   7.54622072e-02]], dtype=float32)],\n",
       " [array([ 0.11083006,  0.11739986,  0.05893402,  0.05517811,  0.09481809,\n",
       "          0.11306658,  0.17404816,  0.14506853,  0.13013743,  0.07491052,\n",
       "          0.16946127,  0.13092935,  0.07193937,  0.06800598,  0.05115183,\n",
       "          0.11891459,  0.08266885,  0.07437284,  0.10953312,  0.17079091,\n",
       "          0.15060857,  0.08747455,  0.12466092,  0.11880731,  0.10578237,\n",
       "          0.13563898,  0.13373131,  0.08714679,  0.15391466,  0.12764731,\n",
       "          0.10360223,  0.09562715,  0.13987514,  0.12954155,  0.10622739,\n",
       "          0.06657615,  0.12035328,  0.13971619,  0.082019  ,  0.12460299,\n",
       "          0.08302524,  0.07634656,  0.09114216,  0.07665613,  0.1877391 ,\n",
       "          0.1587766 ,  0.14727503,  0.0976529 ,  0.1350265 ,  0.08111937,\n",
       "          0.09408811,  0.0920215 ,  0.12258422,  0.07289724,  0.06264205,\n",
       "          0.16436109,  0.07408869,  0.10486048,  0.13606577,  0.10981497,\n",
       "          0.07699525,  0.05977391,  0.14478493,  0.05726945,  0.10163898,\n",
       "          0.07439028,  0.06230127,  0.07312834,  0.07133227,  0.09906301,\n",
       "          0.12687172,  0.09764539,  0.07194459,  0.13854681,  0.11642559,\n",
       "          0.10237744,  0.11370268,  0.15130097,  0.10950202,  0.14854807,\n",
       "          0.08254915,  0.09442292,  0.07433879,  0.11537136,  0.13964108,\n",
       "          0.15511821,  0.09772207,  0.15689948,  0.0597354 ,  0.11691126,\n",
       "          0.09208829,  0.11440227,  0.07580491,  0.13634858,  0.17752576,\n",
       "          0.14311136,  0.17924465,  0.16492622,  0.12611099,  0.13158047,\n",
       "          0.15201674,  0.07054816,  0.09114528,  0.18477538,  0.05488581,\n",
       "          0.09793523,  0.08175886,  0.06844264,  0.07657356,  0.12015111,\n",
       "          0.13551612,  0.09050586,  0.16952327,  0.0668871 ,  0.06954476,\n",
       "          0.14345211,  0.1287484 ,  0.11512781,  0.09088285,  0.11382437,\n",
       "          0.15581459,  0.1227314 ,  0.1574726 ,  0.13881776,  0.08121176,\n",
       "          0.16791384,  0.12312039,  0.13512358,  0.10056071,  0.15542412,\n",
       "          0.08398772,  0.14542931,  0.05840575,  0.16193929,  0.14194165,\n",
       "          0.09289306,  0.13703614,  0.14469948,  0.17983751,  0.12801024,\n",
       "          0.12991895,  0.10659125,  0.10724734,  0.15985855,  0.15130965,\n",
       "          0.13847727,  0.08395033,  0.1197665 ,  0.13456628,  0.05076206,\n",
       "          0.11729322,  0.11535946,  0.09878969,  0.07748074,  0.08779929,\n",
       "          0.10667237,  0.13748699,  0.13721885,  0.07556386,  0.06451964,\n",
       "          0.13084017,  0.08035575,  0.17011662,  0.14113119,  0.08865371,\n",
       "          0.071257  ,  0.13161458,  0.10942846,  0.16464156,  0.06549652,\n",
       "          0.07877275,  0.12667218,  0.0975796 ,  0.03891405,  0.10624846,\n",
       "          0.09160662,  0.1485815 ,  0.09056883,  0.10877667,  0.05819953,\n",
       "          0.15638888,  0.08363301,  0.10902423,  0.07719899,  0.07263193,\n",
       "          0.09829575,  0.10961396,  0.14880067,  0.15950149,  0.092511  ,\n",
       "          0.07199716,  0.07957063,  0.10660273,  0.08344179,  0.14785767,\n",
       "          0.10467441,  0.111617  ,  0.15078099,  0.12700947,  0.06661125], dtype=float32),\n",
       "  array([ 0.09374903,  0.14873731,  0.14700548,  0.10628068,  0.09379931,\n",
       "          0.09873947,  0.0870122 ,  0.10443126,  0.08716029,  0.08367237,\n",
       "          0.14328866,  0.08267982,  0.09619048,  0.09039005,  0.05524213,\n",
       "          0.09165328,  0.13403112,  0.0927691 ,  0.11886234,  0.07988673,\n",
       "          0.09215561,  0.09274978,  0.17371146,  0.09650132,  0.09133062,\n",
       "          0.10921457,  0.0903771 ,  0.16868463,  0.09709259,  0.1338679 ,\n",
       "          0.13777916,  0.10997412,  0.09249989,  0.06806889,  0.09047724,\n",
       "          0.03128296,  0.0924402 ,  0.1630338 ,  0.08765214,  0.10939373,\n",
       "          0.0920459 ,  0.09311723,  0.0681558 ,  0.08670783,  0.0857892 ,\n",
       "          0.09236246,  0.14368485,  0.08947434,  0.10231936,  0.08580891], dtype=float32),\n",
       "  array([ 0.14324814,  0.10576052,  0.10975117,  0.09138777,  0.08814526,\n",
       "          0.05270902,  0.12023046,  0.09282542,  0.09068664,  0.08786651,\n",
       "          0.09712061,  0.1412314 ], dtype=float32)])"
      ]
     },
     "execution_count": 103,
     "metadata": {},
     "output_type": "execute_result"
    }
   ],
   "source": [
    "create_your_autoencoder([784, 400, 200, 100, 20], 'relu')\n",
    "create_your_autoencoder([784, 400, 200, 100, 20], 'relu', steps=100)\n",
    "create_your_autoencoder([784, 50], 'sigma')\n",
    "create_your_autoencoder([784, 100, 10], 'relu', regularized=True)\n",
    "create_your_autoencoder([784, 600, 500, 400, 300, 200, 100, 2], 'sigma')\n",
    "create_your_autoencoder([784, 200, 50, 12], 'relu')"
   ]
  },
  {
   "cell_type": "code",
   "execution_count": 104,
   "metadata": {
    "collapsed": true
   },
   "outputs": [],
   "source": [
    "def create_your_neyro_with_autoencoder(sizes,\n",
    "                                       nonlinearity,\n",
    "                                       W_a, b_a,\n",
    "                                       nonlinearity_a,\n",
    "                                       batch_s = 64,\n",
    "                                       steps = 1000,\n",
    "                                       regularized=False):\n",
    "    #fill variables\n",
    "    lamb1 = 0.00003\n",
    "    lamb2 = 0.0001\n",
    "    \n",
    "    x = tf.placeholder(tf.float32, shape=[None, 784])\n",
    "    x_new = list()\n",
    "    x_new.append(x)\n",
    "    for i in range(len(W_a) - 1):\n",
    "        if nonlinearity_a == 'relu':\n",
    "            x_new.append(tf.nn.relu(tf.matmul(x_new[i], W_a[i]) + b_a[i]))\n",
    "        elif nonlinearity_a == 'sigma':\n",
    "            x_new.append(tf.nn.sigmoid(tf.matmul(x_new[i], W_a[i]) + b_a[i]))\n",
    "    x_new.append(tf.matmul(x_new[len(W_a) - 1], W_a[len(W_a) - 1]) + b_a[len(W_1) - 1])\n",
    "    y_ = tf.placeholder(tf.float32, shape=[None, 10])\n",
    "    n = len(sizes) - 1\n",
    "    W = list()\n",
    "    b = list()\n",
    "    for i in range(n):\n",
    "        W.append(tf.Variable(tf.truncated_normal([sizes[i],sizes[i + 1]], stddev=0.1, dtype=tf.float32)))\n",
    "        b.append(tf.Variable(tf.constant(0.1, shape=[sizes[i + 1]], dtype=tf.float32)))\n",
    "    \n",
    "    x_ = list()\n",
    "    x_.append(x_new[len(x_new) - 1])\n",
    "    L1 = 0\n",
    "    L2 = 0\n",
    "    for i in range(n - 1):\n",
    "        if nonlinearity == 'relu':\n",
    "            x_.append(tf.nn.relu(tf.matmul(x_[i], W[i]) + b[i]))\n",
    "        elif nonlinearity == 'sigma':\n",
    "            x_.append(tf.nn.sigmoid(tf.matmul(x_[i], W[i]) + b[i]))\n",
    "        L1 += tf.reduce_sum(tf.abs(W[i]))\n",
    "        L2 += tf.reduce_sum(tf.square(W[i]))\n",
    "    y_res = tf.matmul(x_[n - 1], W[n - 1]) + b[n - 1]\n",
    "    \n",
    "    if regularized:\n",
    "        cross_entropy = tf.reduce_mean(\n",
    "            tf.nn.softmax_cross_entropy_with_logits(labels=y_, logits=y_res)) + lamb1 * L1 + lamb2 * L2\n",
    "    else:\n",
    "        cross_entropy = tf.reduce_mean(\n",
    "            tf.nn.softmax_cross_entropy_with_logits(labels=y_, logits=y_res))\n",
    "    train_step = tf.train.GradientDescentOptimizer(0.5).minimize(cross_entropy)\n",
    "    \n",
    "    correct_prediction = tf.equal(tf.argmax(y_res, 1), tf.argmax(y_, 1))\n",
    "    accuracy = tf.reduce_mean(tf.cast(correct_prediction, tf.float32))\n",
    "\n",
    "    with tf.Session() as sess:\n",
    "        sess.run(tf.global_variables_initializer())\n",
    "        for i in range(steps):\n",
    "            batch = mnist.train.next_batch(batch_s)\n",
    "            #if i % int(steps / 2) == 0:\n",
    "                #train_accuracy = accuracy.eval(feed_dict={\n",
    "                #x: batch[0], y_: batch[1]})\n",
    "                #print('step %d, training accuracy %g' % (i, train_accuracy))\n",
    "            \n",
    "            train_step.run(feed_dict={x: batch[0], y_: batch[1]})\n",
    "        #outW = sess.run(W, feed_dict={x: mnist.train.images})\n",
    "        #outb = sess.run(b, feed_dict={x: mnist.train.images})\n",
    "        print('sizes:', sizes, ' nonlinearity:', nonlinearity, ' batch size:',\n",
    "              batch_s, ' steps:', steps, ' regularized:', regularized)\n",
    "        print('test accuracy %g' % accuracy.eval(feed_dict={\n",
    "            x: mnist.test.images, y_: mnist.test.labels}))\n",
    "        #return outW, outb"
   ]
  },
  {
   "cell_type": "code",
   "execution_count": 105,
   "metadata": {},
   "outputs": [
    {
     "name": "stdout",
     "output_type": "stream",
     "text": [
      "sizes: [784, 500, 300, 200, 300, 500, 784]  nonlinearity: sigma  batch size: 100  steps: 2000  regularized: False\n",
      "test accuracy 736489\n"
     ]
    },
    {
     "data": {
      "image/png": "[encoded data removed]",
      "text/plain": [
       "<matplotlib.figure.Figure at 0x1a4b2bda0>"
      ]
     },
     "metadata": {},
     "output_type": "display_data"
    },
    {
     "name": "stdout",
     "output_type": "stream",
     "text": [
      "sizes: [200, 100, 30, 10]  nonlinearity: relu  batch size: 64  steps: 2000  regularized: False\n",
      "test accuracy 0.9637\n"
     ]
    }
   ],
   "source": [
    "W_1, b_1 = create_your_autoencoder([784, 500, 300, 200], 'sigma', steps=2000, batch_s = 100)\n",
    "create_your_neyro_with_autoencoder([200, 100, 30, 10],'relu', W_1, b_1,'sigma', steps=2000, batch_s = 64)"
   ]
  },
  {
   "cell_type": "code",
   "execution_count": 72,
   "metadata": {},
   "outputs": [
    {
     "name": "stdout",
     "output_type": "stream",
     "text": [
      "sizes: [784, 500, 300, 200, 300, 500, 784]  nonlinearity: sigma  batch size: 64  steps: 2000  regularized: False\n",
      "test accuracy 793932\n"
     ]
    },
    {
     "data": {
      "image/png": "[encoded data removed]",
      "text/plain": [
       "<matplotlib.figure.Figure at 0x14b734828>"
      ]
     },
     "metadata": {},
     "output_type": "display_data"
    },
    {
     "name": "stdout",
     "output_type": "stream",
     "text": [
      "sizes: [200, 100, 30, 10]  nonlinearity: relu  batch size: 100  steps: 2000  regularized: False\n",
      "test accuracy 0.967\n"
     ]
    }
   ],
   "source": [
    "W_1, b_1 = create_your_autoencoder([784, 500, 300, 200], 'sigma', steps=2000)\n",
    "create_your_neyro_with_autoencoder([200, 100, 30, 10],'relu', W_1, b_1,'sigma', steps=2000, batch_s = 100)"
   ]
  },
  {
   "cell_type": "code",
   "execution_count": 74,
   "metadata": {},
   "outputs": [
    {
     "name": "stdout",
     "output_type": "stream",
     "text": [
      "sizes: [784, 500, 400, 300, 400, 500, 784]  nonlinearity: sigma  batch size: 64  steps: 2000  regularized: False\n",
      "test accuracy 661601\n"
     ]
    },
    {
     "data": {
      "image/png": "[encoded data removed]",
      "text/plain": [
       "<matplotlib.figure.Figure at 0x14c869e10>"
      ]
     },
     "metadata": {},
     "output_type": "display_data"
    },
    {
     "name": "stdout",
     "output_type": "stream",
     "text": [
      "sizes: [300, 150, 50, 10]  nonlinearity: relu  batch size: 100  steps: 2000  regularized: False\n",
      "test accuracy 0.976\n"
     ]
    }
   ],
   "source": [
    "W_1, b_1 = create_your_autoencoder([784, 500, 400, 300], 'sigma', steps=2000)\n",
    "create_your_neyro_with_autoencoder([300, 150, 50, 10],'relu', W_1, b_1,'sigma', steps=2000, batch_s = 100)"
   ]
  },
  {
   "cell_type": "code",
   "execution_count": 75,
   "metadata": {},
   "outputs": [
    {
     "name": "stdout",
     "output_type": "stream",
     "text": [
      "sizes: [784, 500, 400, 300, 400, 500, 784]  nonlinearity: sigma  batch size: 64  steps: 2000  regularized: False\n",
      "test accuracy 648007\n"
     ]
    },
    {
     "data": {
      "image/png": "[encoded data removed]",
      "text/plain": [
       "<matplotlib.figure.Figure at 0x13cf28da0>"
      ]
     },
     "metadata": {},
     "output_type": "display_data"
    },
    {
     "name": "stdout",
     "output_type": "stream",
     "text": [
      "sizes: [300, 150, 50, 10]  nonlinearity: relu  batch size: 100  steps: 2000  regularized: True\n",
      "test accuracy 0.9722\n"
     ]
    }
   ],
   "source": [
    "W_1, b_1 = create_your_autoencoder([784, 500, 400, 300], 'sigma', steps=2000)\n",
    "create_your_neyro_with_autoencoder([300, 150, 50, 10],'relu', W_1, b_1,'sigma', steps=2000, batch_s = 100, regularized=True)"
   ]
  },
  {
   "cell_type": "code",
   "execution_count": 76,
   "metadata": {},
   "outputs": [
    {
     "name": "stdout",
     "output_type": "stream",
     "text": [
      "sizes: [784, 400, 300, 400, 784]  nonlinearity: sigma  batch size: 64  steps: 2000  regularized: False\n",
      "test accuracy 388292\n"
     ]
    },
    {
     "data": {
      "image/png": "[encoded data removed]",
      "text/plain": [
       "<matplotlib.figure.Figure at 0x14bb46160>"
      ]
     },
     "metadata": {},
     "output_type": "display_data"
    },
    {
     "name": "stdout",
     "output_type": "stream",
     "text": [
      "sizes: [300, 50, 10]  nonlinearity: relu  batch size: 100  steps: 2000  regularized: False\n",
      "test accuracy 0.9671\n"
     ]
    }
   ],
   "source": [
    "W_1, b_1 = create_your_autoencoder([784, 400, 300], 'sigma', steps=2000)\n",
    "create_your_neyro_with_autoencoder([300, 50, 10],'relu', W_1, b_1,'sigma', steps=2000, batch_s = 100)"
   ]
  },
  {
   "cell_type": "code",
   "execution_count": 79,
   "metadata": {},
   "outputs": [
    {
     "name": "stdout",
     "output_type": "stream",
     "text": [
      "sizes: [784, 300, 100, 300, 784]  nonlinearity: sigma  batch size: 64  steps: 2000  regularized: False\n",
      "test accuracy 634396\n"
     ]
    },
    {
     "data": {
      "image/png": "[encoded data removed]",
      "text/plain": [
       "<matplotlib.figure.Figure at 0x12bb070b8>"
      ]
     },
     "metadata": {},
     "output_type": "display_data"
    },
    {
     "name": "stdout",
     "output_type": "stream",
     "text": [
      "sizes: [100, 50, 10]  nonlinearity: relu  batch size: 150  steps: 2000  regularized: False\n",
      "test accuracy 0.9679\n"
     ]
    }
   ],
   "source": [
    "W_1, b_1 = create_your_autoencoder([784, 300, 100], 'sigma', steps=2000)\n",
    "create_your_neyro_with_autoencoder([100, 50, 10],'relu', W_1, b_1,'sigma', steps=2000, batch_s = 150)"
   ]
  },
  {
   "cell_type": "code",
   "execution_count": null,
   "metadata": {
    "collapsed": true
   },
   "outputs": [],
   "source": []
  },
  {
   "cell_type": "code",
   "execution_count": null,
   "metadata": {
    "collapsed": true
   },
   "outputs": [],
   "source": []
  }
 ],
 "metadata": {
  "kernelspec": {
   "display_name": "Python 3",
   "language": "python",
   "name": "python3"
  },
  "language_info": {
   "codemirror_mode": {
    "name": "ipython",
    "version": 3
   },
   "file_extension": ".py",
   "mimetype": "text/x-python",
   "name": "python",
   "nbconvert_exporter": "python",
   "pygments_lexer": "ipython3",
   "version": "3.6.1"
  }
 },
 "nbformat": 4,
 "nbformat_minor": 1
}
